{
 "cells": [
  {
   "cell_type": "code",
   "execution_count": 20,
   "metadata": {},
   "outputs": [
    {
     "data": {
      "text/plain": [
       "0     T3Z 3S4\n",
       "1     T2H 0H9\n",
       "2     T2K 4W6\n",
       "3     T3S 0B5\n",
       "4     T3S 0B4\n",
       "       ...   \n",
       "90    T0M 0S0\n",
       "91    T4A 0E1\n",
       "92    T2B 3H2\n",
       "93    T2C 4L8\n",
       "94    T2G 2A5\n",
       "Name: Postal Code, Length: 95, dtype: object"
      ]
     },
     "execution_count": 20,
     "metadata": {},
     "output_type": "execute_result"
    }
   ],
   "source": [
    "import requests\n",
    "import urllib.parse\n",
    "import pandas as pd\n",
    "\n",
    "Properties_canada=pd.read_csv('All_properties.csv', engine='python')\n",
    "Postal_Code_list=Properties_canada['Postal Code']\n",
    "Postal_Code_list"
   ]
  },
  {
   "cell_type": "code",
   "execution_count": 21,
   "metadata": {},
   "outputs": [
    {
     "ename": "JSONDecodeError",
     "evalue": "Expecting value: line 1 column 1 (char 0)",
     "output_type": "error",
     "traceback": [
      "\u001b[1;31m---------------------------------------------------------------------------\u001b[0m",
      "\u001b[1;31mJSONDecodeError\u001b[0m                           Traceback (most recent call last)",
      "\u001b[1;32m<ipython-input-21-13aa324b5df1>\u001b[0m in \u001b[0;36m<module>\u001b[1;34m\u001b[0m\n\u001b[0;32m      4\u001b[0m \u001b[1;32mfor\u001b[0m \u001b[0mi\u001b[0m \u001b[1;32min\u001b[0m \u001b[0mPostal_Code_list\u001b[0m\u001b[1;33m:\u001b[0m\u001b[1;33m\u001b[0m\u001b[1;33m\u001b[0m\u001b[0m\n\u001b[0;32m      5\u001b[0m     \u001b[0murl\u001b[0m\u001b[1;33m=\u001b[0m\u001b[1;34m'https://nominatim.openstreetmap.org/ui/search.html?postalcode='\u001b[0m\u001b[1;33m+\u001b[0m \u001b[0murllib\u001b[0m\u001b[1;33m.\u001b[0m\u001b[0mparse\u001b[0m\u001b[1;33m.\u001b[0m\u001b[0mquote_plus\u001b[0m\u001b[1;33m(\u001b[0m\u001b[0mi\u001b[0m\u001b[1;33m)\u001b[0m \u001b[1;33m+\u001b[0m \u001b[1;34m'&format=jsonv2'\u001b[0m\u001b[1;33m\u001b[0m\u001b[1;33m\u001b[0m\u001b[0m\n\u001b[1;32m----> 6\u001b[1;33m     \u001b[0mresponse\u001b[0m \u001b[1;33m=\u001b[0m \u001b[0mrequests\u001b[0m\u001b[1;33m.\u001b[0m\u001b[0mget\u001b[0m\u001b[1;33m(\u001b[0m\u001b[0murl\u001b[0m\u001b[1;33m)\u001b[0m\u001b[1;33m.\u001b[0m\u001b[0mjson\u001b[0m\u001b[1;33m(\u001b[0m\u001b[1;33m)\u001b[0m\u001b[1;33m\u001b[0m\u001b[1;33m\u001b[0m\u001b[0m\n\u001b[0m\u001b[0;32m      7\u001b[0m     \u001b[1;31m#try:\u001b[0m\u001b[1;33m\u001b[0m\u001b[1;33m\u001b[0m\u001b[1;33m\u001b[0m\u001b[0m\n\u001b[0;32m      8\u001b[0m     \u001b[1;31m#    list_lon.append(response[0][\"lon\"])\u001b[0m\u001b[1;33m\u001b[0m\u001b[1;33m\u001b[0m\u001b[1;33m\u001b[0m\u001b[0m\n",
      "\u001b[1;32m~\\Anaconda3\\envs\\geo_env\\lib\\site-packages\\requests\\models.py\u001b[0m in \u001b[0;36mjson\u001b[1;34m(self, **kwargs)\u001b[0m\n\u001b[0;32m    908\u001b[0m                     \u001b[1;31m# used.\u001b[0m\u001b[1;33m\u001b[0m\u001b[1;33m\u001b[0m\u001b[1;33m\u001b[0m\u001b[0m\n\u001b[0;32m    909\u001b[0m                     \u001b[1;32mpass\u001b[0m\u001b[1;33m\u001b[0m\u001b[1;33m\u001b[0m\u001b[0m\n\u001b[1;32m--> 910\u001b[1;33m         \u001b[1;32mreturn\u001b[0m \u001b[0mcomplexjson\u001b[0m\u001b[1;33m.\u001b[0m\u001b[0mloads\u001b[0m\u001b[1;33m(\u001b[0m\u001b[0mself\u001b[0m\u001b[1;33m.\u001b[0m\u001b[0mtext\u001b[0m\u001b[1;33m,\u001b[0m \u001b[1;33m**\u001b[0m\u001b[0mkwargs\u001b[0m\u001b[1;33m)\u001b[0m\u001b[1;33m\u001b[0m\u001b[1;33m\u001b[0m\u001b[0m\n\u001b[0m\u001b[0;32m    911\u001b[0m \u001b[1;33m\u001b[0m\u001b[0m\n\u001b[0;32m    912\u001b[0m     \u001b[1;33m@\u001b[0m\u001b[0mproperty\u001b[0m\u001b[1;33m\u001b[0m\u001b[1;33m\u001b[0m\u001b[0m\n",
      "\u001b[1;32m~\\Anaconda3\\envs\\geo_env\\lib\\json\\__init__.py\u001b[0m in \u001b[0;36mloads\u001b[1;34m(s, cls, object_hook, parse_float, parse_int, parse_constant, object_pairs_hook, **kw)\u001b[0m\n\u001b[0;32m    355\u001b[0m             \u001b[0mparse_int\u001b[0m \u001b[1;32mis\u001b[0m \u001b[1;32mNone\u001b[0m \u001b[1;32mand\u001b[0m \u001b[0mparse_float\u001b[0m \u001b[1;32mis\u001b[0m \u001b[1;32mNone\u001b[0m \u001b[1;32mand\u001b[0m\u001b[1;33m\u001b[0m\u001b[1;33m\u001b[0m\u001b[0m\n\u001b[0;32m    356\u001b[0m             parse_constant is None and object_pairs_hook is None and not kw):\n\u001b[1;32m--> 357\u001b[1;33m         \u001b[1;32mreturn\u001b[0m \u001b[0m_default_decoder\u001b[0m\u001b[1;33m.\u001b[0m\u001b[0mdecode\u001b[0m\u001b[1;33m(\u001b[0m\u001b[0ms\u001b[0m\u001b[1;33m)\u001b[0m\u001b[1;33m\u001b[0m\u001b[1;33m\u001b[0m\u001b[0m\n\u001b[0m\u001b[0;32m    358\u001b[0m     \u001b[1;32mif\u001b[0m \u001b[0mcls\u001b[0m \u001b[1;32mis\u001b[0m \u001b[1;32mNone\u001b[0m\u001b[1;33m:\u001b[0m\u001b[1;33m\u001b[0m\u001b[1;33m\u001b[0m\u001b[0m\n\u001b[0;32m    359\u001b[0m         \u001b[0mcls\u001b[0m \u001b[1;33m=\u001b[0m \u001b[0mJSONDecoder\u001b[0m\u001b[1;33m\u001b[0m\u001b[1;33m\u001b[0m\u001b[0m\n",
      "\u001b[1;32m~\\Anaconda3\\envs\\geo_env\\lib\\json\\decoder.py\u001b[0m in \u001b[0;36mdecode\u001b[1;34m(self, s, _w)\u001b[0m\n\u001b[0;32m    335\u001b[0m \u001b[1;33m\u001b[0m\u001b[0m\n\u001b[0;32m    336\u001b[0m         \"\"\"\n\u001b[1;32m--> 337\u001b[1;33m         \u001b[0mobj\u001b[0m\u001b[1;33m,\u001b[0m \u001b[0mend\u001b[0m \u001b[1;33m=\u001b[0m \u001b[0mself\u001b[0m\u001b[1;33m.\u001b[0m\u001b[0mraw_decode\u001b[0m\u001b[1;33m(\u001b[0m\u001b[0ms\u001b[0m\u001b[1;33m,\u001b[0m \u001b[0midx\u001b[0m\u001b[1;33m=\u001b[0m\u001b[0m_w\u001b[0m\u001b[1;33m(\u001b[0m\u001b[0ms\u001b[0m\u001b[1;33m,\u001b[0m \u001b[1;36m0\u001b[0m\u001b[1;33m)\u001b[0m\u001b[1;33m.\u001b[0m\u001b[0mend\u001b[0m\u001b[1;33m(\u001b[0m\u001b[1;33m)\u001b[0m\u001b[1;33m)\u001b[0m\u001b[1;33m\u001b[0m\u001b[1;33m\u001b[0m\u001b[0m\n\u001b[0m\u001b[0;32m    338\u001b[0m         \u001b[0mend\u001b[0m \u001b[1;33m=\u001b[0m \u001b[0m_w\u001b[0m\u001b[1;33m(\u001b[0m\u001b[0ms\u001b[0m\u001b[1;33m,\u001b[0m \u001b[0mend\u001b[0m\u001b[1;33m)\u001b[0m\u001b[1;33m.\u001b[0m\u001b[0mend\u001b[0m\u001b[1;33m(\u001b[0m\u001b[1;33m)\u001b[0m\u001b[1;33m\u001b[0m\u001b[1;33m\u001b[0m\u001b[0m\n\u001b[0;32m    339\u001b[0m         \u001b[1;32mif\u001b[0m \u001b[0mend\u001b[0m \u001b[1;33m!=\u001b[0m \u001b[0mlen\u001b[0m\u001b[1;33m(\u001b[0m\u001b[0ms\u001b[0m\u001b[1;33m)\u001b[0m\u001b[1;33m:\u001b[0m\u001b[1;33m\u001b[0m\u001b[1;33m\u001b[0m\u001b[0m\n",
      "\u001b[1;32m~\\Anaconda3\\envs\\geo_env\\lib\\json\\decoder.py\u001b[0m in \u001b[0;36mraw_decode\u001b[1;34m(self, s, idx)\u001b[0m\n\u001b[0;32m    353\u001b[0m             \u001b[0mobj\u001b[0m\u001b[1;33m,\u001b[0m \u001b[0mend\u001b[0m \u001b[1;33m=\u001b[0m \u001b[0mself\u001b[0m\u001b[1;33m.\u001b[0m\u001b[0mscan_once\u001b[0m\u001b[1;33m(\u001b[0m\u001b[0ms\u001b[0m\u001b[1;33m,\u001b[0m \u001b[0midx\u001b[0m\u001b[1;33m)\u001b[0m\u001b[1;33m\u001b[0m\u001b[1;33m\u001b[0m\u001b[0m\n\u001b[0;32m    354\u001b[0m         \u001b[1;32mexcept\u001b[0m \u001b[0mStopIteration\u001b[0m \u001b[1;32mas\u001b[0m \u001b[0merr\u001b[0m\u001b[1;33m:\u001b[0m\u001b[1;33m\u001b[0m\u001b[1;33m\u001b[0m\u001b[0m\n\u001b[1;32m--> 355\u001b[1;33m             \u001b[1;32mraise\u001b[0m \u001b[0mJSONDecodeError\u001b[0m\u001b[1;33m(\u001b[0m\u001b[1;34m\"Expecting value\"\u001b[0m\u001b[1;33m,\u001b[0m \u001b[0ms\u001b[0m\u001b[1;33m,\u001b[0m \u001b[0merr\u001b[0m\u001b[1;33m.\u001b[0m\u001b[0mvalue\u001b[0m\u001b[1;33m)\u001b[0m \u001b[1;32mfrom\u001b[0m \u001b[1;32mNone\u001b[0m\u001b[1;33m\u001b[0m\u001b[1;33m\u001b[0m\u001b[0m\n\u001b[0m\u001b[0;32m    356\u001b[0m         \u001b[1;32mreturn\u001b[0m \u001b[0mobj\u001b[0m\u001b[1;33m,\u001b[0m \u001b[0mend\u001b[0m\u001b[1;33m\u001b[0m\u001b[1;33m\u001b[0m\u001b[0m\n",
      "\u001b[1;31mJSONDecodeError\u001b[0m: Expecting value: line 1 column 1 (char 0)"
     ]
    }
   ],
   "source": [
    "list_lon=[]\n",
    "list_lat=[]\n",
    "j=0\n",
    "for i in Postal_Code_list:\n",
    "    url='https://nominatim.openstreetmap.org/ui/search.html?postalcode='+ urllib.parse.quote_plus(i) + '&format=jsonv2' \n",
    "    response = requests.get(url).json()\n",
    "    #try:\n",
    "    #    list_lon.append(response[0][\"lon\"])\n",
    "    #    list_lat.append(response[0][\"lat\"])\n",
    "    #except:\n",
    "    #    list_lat.append('nope')\n",
    "    #    list_lon.append('nope')\n",
    "    #print(j)\n",
    "    #j+=1\n",
    "    response\n",
    "\n",
    "        \n",
    "        \n",
    "        \n",
    "        "
   ]
  },
  {
   "cell_type": "code",
   "execution_count": 7,
   "metadata": {},
   "outputs": [
    {
     "data": {
      "text/plain": [
       "'T2H'"
      ]
     },
     "execution_count": 7,
     "metadata": {},
     "output_type": "execute_result"
    }
   ],
   "source": [
    "Postal_Code_list[1][:3]"
   ]
  },
  {
   "cell_type": "code",
   "execution_count": 9,
   "metadata": {},
   "outputs": [
    {
     "data": {
      "text/plain": [
       "'0H9'"
      ]
     },
     "execution_count": 9,
     "metadata": {},
     "output_type": "execute_result"
    }
   ],
   "source": [
    "Postal_Code_list[1][4:7]"
   ]
  },
  {
   "cell_type": "code",
   "execution_count": 15,
   "metadata": {},
   "outputs": [
    {
     "data": {
      "text/plain": [
       "0     T3Z 3S4\n",
       "1     T2H 0H9\n",
       "2     T2K 4W6\n",
       "3     T3S 0B5\n",
       "4     T3S 0B4\n",
       "       ...   \n",
       "90    T0M 0S0\n",
       "91    T4A 0E1\n",
       "92    T2B 3H2\n",
       "93    T2C 4L8\n",
       "94    T2G 2A5\n",
       "Name: Postal Code, Length: 95, dtype: object"
      ]
     },
     "execution_count": 15,
     "metadata": {},
     "output_type": "execute_result"
    }
   ],
   "source": [
    "Postal_Code_list"
   ]
  },
  {
   "cell_type": "code",
   "execution_count": 18,
   "metadata": {},
   "outputs": [
    {
     "name": "stdout",
     "output_type": "stream",
     "text": [
      "https://nominatim.openstreetmap.org/ui/search.html?postalcode=T3Z+3S4&format=json\n",
      "https://nominatim.openstreetmap.org/ui/search.html?postalcode=T2H+0H9&format=json\n",
      "https://nominatim.openstreetmap.org/ui/search.html?postalcode=T2K+4W6&format=json\n",
      "https://nominatim.openstreetmap.org/ui/search.html?postalcode=T3S+0B5&format=json\n",
      "https://nominatim.openstreetmap.org/ui/search.html?postalcode=T3S+0B4&format=json\n",
      "https://nominatim.openstreetmap.org/ui/search.html?postalcode=T2E+6N6&format=json\n",
      "https://nominatim.openstreetmap.org/ui/search.html?postalcode=T2P+2B4&format=json\n",
      "https://nominatim.openstreetmap.org/ui/search.html?postalcode=T4A+2H5&format=json\n",
      "https://nominatim.openstreetmap.org/ui/search.html?postalcode=T4C+0A2&format=json\n",
      "https://nominatim.openstreetmap.org/ui/search.html?postalcode=T2C+5N9&format=json\n",
      "https://nominatim.openstreetmap.org/ui/search.html?postalcode=T2C+4X7&format=json\n",
      "https://nominatim.openstreetmap.org/ui/search.html?postalcode=T2C+2R9&format=json\n",
      "https://nominatim.openstreetmap.org/ui/search.html?postalcode=T2C+5N9&format=json\n",
      "https://nominatim.openstreetmap.org/ui/search.html?postalcode=T2C+5N9&format=json\n",
      "https://nominatim.openstreetmap.org/ui/search.html?postalcode=T2C+2J1&format=json\n",
      "https://nominatim.openstreetmap.org/ui/search.html?postalcode=T2C+4S6&format=json\n",
      "https://nominatim.openstreetmap.org/ui/search.html?postalcode=T2K+5X7&format=json\n",
      "https://nominatim.openstreetmap.org/ui/search.html?postalcode=T2G+4N5&format=json\n",
      "https://nominatim.openstreetmap.org/ui/search.html?postalcode=T2C+1J7&format=json\n",
      "https://nominatim.openstreetmap.org/ui/search.html?postalcode=T2C+5N9&format=json\n",
      "https://nominatim.openstreetmap.org/ui/search.html?postalcode=T2C+5N9&format=json\n",
      "https://nominatim.openstreetmap.org/ui/search.html?postalcode=T2G+0A2&format=json\n",
      "https://nominatim.openstreetmap.org/ui/search.html?postalcode=T2Z+3V5&format=json\n",
      "https://nominatim.openstreetmap.org/ui/search.html?postalcode=T2G+2A7&format=json\n",
      "https://nominatim.openstreetmap.org/ui/search.html?postalcode=T2N+2A4&format=json\n",
      "https://nominatim.openstreetmap.org/ui/search.html?postalcode=T2H+0E7&format=json\n",
      "https://nominatim.openstreetmap.org/ui/search.html?postalcode=T2B+3N8&format=json\n",
      "https://nominatim.openstreetmap.org/ui/search.html?postalcode=T2H+1M7&format=json\n",
      "https://nominatim.openstreetmap.org/ui/search.html?postalcode=T2C+4S6&format=json\n",
      "https://nominatim.openstreetmap.org/ui/search.html?postalcode=T2C+4S6&format=json\n",
      "https://nominatim.openstreetmap.org/ui/search.html?postalcode=T2E+8N6&format=json\n",
      "https://nominatim.openstreetmap.org/ui/search.html?postalcode=T4A+0E1&format=json\n",
      "https://nominatim.openstreetmap.org/ui/search.html?postalcode=T2A+1X2&format=json\n",
      "https://nominatim.openstreetmap.org/ui/search.html?postalcode=T3R+0K4&format=json\n",
      "https://nominatim.openstreetmap.org/ui/search.html?postalcode=T4A+2G2&format=json\n",
      "https://nominatim.openstreetmap.org/ui/search.html?postalcode=T3J+0L7&format=json\n",
      "https://nominatim.openstreetmap.org/ui/search.html?postalcode=T4A+2L5&format=json\n",
      "https://nominatim.openstreetmap.org/ui/search.html?postalcode=24T1X+0R4&format=json\n",
      "https://nominatim.openstreetmap.org/ui/search.html?postalcode=T2C+2B3&format=json\n",
      "https://nominatim.openstreetmap.org/ui/search.html?postalcode=T2C+2X3&format=json\n",
      "https://nominatim.openstreetmap.org/ui/search.html?postalcode=T2C+2B3&format=json\n",
      "https://nominatim.openstreetmap.org/ui/search.html?postalcode=T2G+4V3&format=json\n",
      "https://nominatim.openstreetmap.org/ui/search.html?postalcode=T2C+4L8&format=json\n",
      "https://nominatim.openstreetmap.org/ui/search.html?postalcode=T2P+3K2&format=json\n",
      "https://nominatim.openstreetmap.org/ui/search.html?postalcode=T2V+2X5&format=json\n",
      "https://nominatim.openstreetmap.org/ui/search.html?postalcode=T2A+5N1&format=json\n",
      "https://nominatim.openstreetmap.org/ui/search.html?postalcode=T4A+2L5&format=json\n",
      "https://nominatim.openstreetmap.org/ui/search.html?postalcode=T2E+6L1&format=json\n",
      "https://nominatim.openstreetmap.org/ui/search.html?postalcode=T2P+3K2&format=json\n",
      "https://nominatim.openstreetmap.org/ui/search.html?postalcode=T2G+5R1&format=json\n",
      "https://nominatim.openstreetmap.org/ui/search.html?postalcode=T2K+4W6&format=json\n",
      "https://nominatim.openstreetmap.org/ui/search.html?postalcode=T2C+2B3&format=json\n",
      "https://nominatim.openstreetmap.org/ui/search.html?postalcode=T2C+2B3&format=json\n",
      "https://nominatim.openstreetmap.org/ui/search.html?postalcode=T2C+2B3&format=json\n",
      "https://nominatim.openstreetmap.org/ui/search.html?postalcode=T2C+2B3&format=json\n",
      "https://nominatim.openstreetmap.org/ui/search.html?postalcode=T2C+2B3&format=json\n",
      "https://nominatim.openstreetmap.org/ui/search.html?postalcode=T2H+1M7&format=json\n",
      "https://nominatim.openstreetmap.org/ui/search.html?postalcode=T3J+0G8&format=json\n",
      "https://nominatim.openstreetmap.org/ui/search.html?postalcode=T2H+1M7&format=json\n",
      "https://nominatim.openstreetmap.org/ui/search.html?postalcode=T2C+4S6&format=json\n",
      "https://nominatim.openstreetmap.org/ui/search.html?postalcode=T2H+1M7&format=json\n",
      "https://nominatim.openstreetmap.org/ui/search.html?postalcode=T2H+1M7&format=json\n",
      "https://nominatim.openstreetmap.org/ui/search.html?postalcode=T2E+7E1&format=json\n",
      "https://nominatim.openstreetmap.org/ui/search.html?postalcode=T3S&format=json\n",
      "https://nominatim.openstreetmap.org/ui/search.html?postalcode=T3S&format=json\n",
      "https://nominatim.openstreetmap.org/ui/search.html?postalcode=T2G+2A7&format=json\n",
      "https://nominatim.openstreetmap.org/ui/search.html?postalcode=T1Y+5X7&format=json\n",
      "https://nominatim.openstreetmap.org/ui/search.html?postalcode=T1Y+5X7&format=json\n",
      "https://nominatim.openstreetmap.org/ui/search.html?postalcode=T2A+5N1&format=json\n",
      "https://nominatim.openstreetmap.org/ui/search.html?postalcode=T2P+1C5&format=json\n",
      "https://nominatim.openstreetmap.org/ui/search.html?postalcode=T1P+1K4&format=json\n",
      "https://nominatim.openstreetmap.org/ui/search.html?postalcode=T2C+1G1&format=json\n",
      "https://nominatim.openstreetmap.org/ui/search.html?postalcode=T2G+0P4&format=json\n",
      "https://nominatim.openstreetmap.org/ui/search.html?postalcode=T2C+2X2&format=json\n",
      "https://nominatim.openstreetmap.org/ui/search.html?postalcode=T3S+0B5&format=json\n",
      "https://nominatim.openstreetmap.org/ui/search.html?postalcode=T3S+0B4&format=json\n",
      "https://nominatim.openstreetmap.org/ui/search.html?postalcode=T2C+1V6&format=json\n",
      "https://nominatim.openstreetmap.org/ui/search.html?postalcode=T2G+3R8&format=json\n",
      "https://nominatim.openstreetmap.org/ui/search.html?postalcode=T3B+5C2&format=json\n",
      "https://nominatim.openstreetmap.org/ui/search.html?postalcode=T4C+0A2&format=json\n",
      "https://nominatim.openstreetmap.org/ui/search.html?postalcode=T0M+0S0&format=json\n",
      "https://nominatim.openstreetmap.org/ui/search.html?postalcode=T4A+2J5&format=json\n",
      "https://nominatim.openstreetmap.org/ui/search.html?postalcode=T2B+2W1&format=json\n",
      "https://nominatim.openstreetmap.org/ui/search.html?postalcode=T2E+2M1&format=json\n",
      "https://nominatim.openstreetmap.org/ui/search.html?postalcode=T0M+0S0&format=json\n",
      "https://nominatim.openstreetmap.org/ui/search.html?postalcode=T2G+3A5&format=json\n",
      "https://nominatim.openstreetmap.org/ui/search.html?postalcode=T2G+3A4&format=json\n",
      "https://nominatim.openstreetmap.org/ui/search.html?postalcode=T3R+0K4&format=json\n",
      "https://nominatim.openstreetmap.org/ui/search.html?postalcode=T2G+4C4&format=json\n",
      "https://nominatim.openstreetmap.org/ui/search.html?postalcode=T2A+2L5&format=json\n",
      "https://nominatim.openstreetmap.org/ui/search.html?postalcode=T0M+0S0&format=json\n",
      "https://nominatim.openstreetmap.org/ui/search.html?postalcode=T4A+0E1&format=json\n",
      "https://nominatim.openstreetmap.org/ui/search.html?postalcode=T2B+3H2&format=json\n",
      "https://nominatim.openstreetmap.org/ui/search.html?postalcode=T2C+4L8&format=json\n",
      "https://nominatim.openstreetmap.org/ui/search.html?postalcode=T2G+2A5&format=json\n"
     ]
    }
   ],
   "source": [
    "for i in Postal_Code_list:\n",
    "    url='https://nominatim.openstreetmap.org/ui/search.html?postalcode='+ urllib.parse.quote_plus(i) + '&format=json' \n",
    "    print(url)"
   ]
  },
  {
   "cell_type": "code",
   "execution_count": null,
   "metadata": {},
   "outputs": [],
   "source": []
  }
 ],
 "metadata": {
  "kernelspec": {
   "display_name": "Python 3",
   "language": "python",
   "name": "python3"
  },
  "language_info": {
   "codemirror_mode": {
    "name": "ipython",
    "version": 3
   },
   "file_extension": ".py",
   "mimetype": "text/x-python",
   "name": "python",
   "nbconvert_exporter": "python",
   "pygments_lexer": "ipython3",
   "version": "3.8.5"
  }
 },
 "nbformat": 4,
 "nbformat_minor": 4
}
